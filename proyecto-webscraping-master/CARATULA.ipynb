{
 "cells": [
  {
   "cell_type": "markdown",
   "id": "3e023a3c",
   "metadata": {},
   "source": [
    "<center> <h1>Universidad Nacional de San Agustín de Arequipa</h1> </center> \n",
    "<center> <h1>Escuela Profesional de Ingeniería de Telecomunicaciones</h1> </center> \n",
    "\n",
    "<center> <h1> </h1> </center> \n",
    "\n",
    "<center><img src=\"https://user-images.githubusercontent.com/19308295/115939517-f1c6fe80-a463-11eb-989c-812ab4942586.png\" width=\"380\" height=\"4200\"></center>"
   ]
  },
  {
   "cell_type": "markdown",
   "id": "10cdfb08",
   "metadata": {},
   "source": [
    "<center> <h2>Ingeniero Renzo Bolivar - Docente DAIE</h2> </center> "
   ]
  },
  {
   "cell_type": "markdown",
   "id": "3ed4438c",
   "metadata": {},
   "source": [
    "<center> <h1>Curso : Computación 2</h1> </center> "
   ]
  },
  {
   "cell_type": "markdown",
   "id": "24b46e17",
   "metadata": {},
   "source": [
    "<center> <h1>Grupo : A-3</h1> </center>"
   ]
  },
  {
   "cell_type": "markdown",
   "id": "afffe59e",
   "metadata": {},
   "source": [
    "<center> <h1>Integrantes:</h1> </center>"
   ]
  },
  {
   "cell_type": "markdown",
   "id": "8076d289",
   "metadata": {},
   "source": [
    "<center> <h2>Boza Anampa, Diego Alexander</h2> </center>"
   ]
  },
  {
   "cell_type": "markdown",
   "id": "0539e2b8",
   "metadata": {},
   "source": [
    "<center> <h2>Cáceres Ramos, Molly Tamara</h2> </center>"
   ]
  },
  {
   "cell_type": "markdown",
   "id": "62b4b67a",
   "metadata": {},
   "source": [
    "<center> <h2>Camargo Calatayud, Alejandro Victor Terry </h2> </center>"
   ]
  },
  {
   "cell_type": "markdown",
   "id": "f276e6f0",
   "metadata": {},
   "source": [
    "<center> <h2>Huamani Quispe, Elisban</h2> </center>"
   ]
  },
  {
   "cell_type": "markdown",
   "id": "c42bbe88",
   "metadata": {},
   "source": [
    "<center> <h2>Mamani Alvarez, Rudy</h2> </center>"
   ]
  },
  {
   "cell_type": "markdown",
   "id": "392ccafd",
   "metadata": {},
   "source": [
    "<center> <h1>2023</h1> </center>"
   ]
  },
  {
   "cell_type": "markdown",
   "id": "704631c1",
   "metadata": {},
   "source": [
    "![linea 1](https://user-images.githubusercontent.com/19308295/115926252-2b8a0c00-a448-11eb-9d9c-b43beaf0ff68.png)"
   ]
  },
  {
   "cell_type": "markdown",
   "id": "8e0b8918",
   "metadata": {},
   "source": [
    "<center> <h1>EXCEL A PYTHON</h1> </center> "
   ]
  },
  {
   "cell_type": "markdown",
   "id": "17af2356",
   "metadata": {},
   "source": [
    "![linea 1](https://user-images.githubusercontent.com/19308295/115926252-2b8a0c00-a448-11eb-9d9c-b43beaf0ff68.png)"
   ]
  },
  {
   "cell_type": "code",
   "execution_count": null,
   "id": "272a0900",
   "metadata": {},
   "outputs": [],
   "source": []
  }
 ],
 "metadata": {
  "kernelspec": {
   "display_name": "Python 3 (ipykernel)",
   "language": "python",
   "name": "python3"
  },
  "language_info": {
   "codemirror_mode": {
    "name": "ipython",
    "version": 3
   },
   "file_extension": ".py",
   "mimetype": "text/x-python",
   "name": "python",
   "nbconvert_exporter": "python",
   "pygments_lexer": "ipython3",
   "version": "3.8.16"
  }
 },
 "nbformat": 4,
 "nbformat_minor": 5
}
